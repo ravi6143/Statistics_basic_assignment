{
 "cells": [
  {
   "cell_type": "markdown",
   "id": "8233e33f-458f-46aa-b460-e2823170267f",
   "metadata": {},
   "source": [
    "#Question - 1\n",
    "#ans - "
   ]
  },
  {
   "cell_type": "markdown",
   "id": "78cdcc7c-eace-4315-a019-9a6e31dd8475",
   "metadata": {},
   "source": [
    "Statistics is the science of collecting,organizing and analyzing tha data  to make informed decisions and draw meaningful conclusions."
   ]
  },
  {
   "cell_type": "code",
   "execution_count": null,
   "id": "859ce633-2444-45b3-b6ae-597c41e96604",
   "metadata": {},
   "outputs": [],
   "source": []
  },
  {
   "cell_type": "code",
   "execution_count": null,
   "id": "35bf263a-d77b-4d33-bf25-d458d00ea91b",
   "metadata": {},
   "outputs": [],
   "source": []
  },
  {
   "cell_type": "markdown",
   "id": "ae13233d-35b4-41dc-bf8c-1da0910772a0",
   "metadata": {},
   "source": [
    "#Question - 2\n",
    "#ans - "
   ]
  },
  {
   "cell_type": "markdown",
   "id": "4ce0c037-710e-4f29-905a-66632df5040c",
   "metadata": {},
   "source": [
    "1. Descriptive Statistics:\n",
    "Descriptive statistics involve methods for summarizing and describing the main features of a dataset. They provide a clear and concise overview of the data's characteristics. Descriptive statistics are often used to present data in a meaningful and easily interpretable way.\n",
    "\n",
    "*.Examples:\n",
    "\n",
    "(a). Mean (Average): Calculating the average score of a class in a test to understand the overall performance.\n",
    "(b). Median: Finding the middle value of a dataset to describe the central tendency when data includes outliers.\n",
    "(c). Mode: Identifying the most frequent value in a dataset, such as the most common shoe size in a store's inventory.\n",
    "\n",
    "\n",
    "\n",
    "\n",
    "\n",
    "2. Inferential statistics involve making inferences or predictions about a population based on a sample of data. These techniques allow us to draw conclusions beyond the data at hand and make statements about broader populations.\n",
    "\n",
    "*.Examples:\n",
    "\n",
    "(a). Hypothesis Testing: Testing whether a new drug has a statistically significant effect compared to a placebo in a clinical trial.\n",
    "(b). Chi-Square Test: Determining if there's a significant association between two categorical variables, like testing whether gender and voting preference are independent."
   ]
  },
  {
   "cell_type": "code",
   "execution_count": null,
   "id": "25a03872-d1f9-4611-9609-60564a40bf21",
   "metadata": {},
   "outputs": [],
   "source": []
  },
  {
   "cell_type": "code",
   "execution_count": null,
   "id": "c494078f-3fdf-45de-a47c-22289bcdae00",
   "metadata": {},
   "outputs": [],
   "source": []
  },
  {
   "cell_type": "code",
   "execution_count": null,
   "id": "44f5c416-8706-4899-8871-d5a23bebebc4",
   "metadata": {},
   "outputs": [],
   "source": []
  },
  {
   "cell_type": "markdown",
   "id": "b394a445-cd1e-4ea5-a577-9945831a062a",
   "metadata": {},
   "source": [
    "#Question - 3\n",
    "#ans - "
   ]
  },
  {
   "cell_type": "markdown",
   "id": "2fcbc501-999d-466e-99c1-b30e6d67d88d",
   "metadata": {},
   "source": [
    "1. Nominal Data:\n",
    "Nominal data consists of categories or labels that have no inherent order or numerical meaning. This type of data is used to represent qualitative attributes.\n",
    "\n",
    "*.Example: Eye color (categories: blue, brown, green, etc.)\n",
    "\n",
    "-.Explanation: The different eye colors are distinct categories, but there is no inherent order or numerical value associated with them.\n",
    "\n",
    "2. Ordinal Data:\n",
    "Ordinal data involves categories that have a specific order or ranking. However, the differences between the categories are not well-defined or consistent.\n",
    "\n",
    "*.Example: Educational levels (categories: high school, bachelor's, master's, PhD)\n",
    "\n",
    "-.Explanation: While there is an order to these categories, the differences in \"distance\" between them are not uniform. The gap between high school and bachelor's is different from the gap between master's and PhD.\n",
    "\n",
    "\n",
    "\n",
    "3. Discrete or interval Data:\n",
    "This type of data contains whole numbers. This type of data doesn't have a true zero point and allows for meaningful calculations of differences between values.\n",
    "\n",
    "*.Example: Number of members in a family\n",
    "\n",
    "4. Continuous or Ratio Data:\n",
    " This type of data also have ordered categories with consistent intervals, but they have a true zero point, meaning that zero indicates the absence of the measured attribute. This allows for meaningful ratios and calculations involving ratios.\n",
    "\n",
    "*.Example: Height, weight, income\n",
    "\n",
    "-.Explanation: A weight of 0 kg indicates the absence of weight, and a weight of 10 kg is twice as heavy as 5 kg. Ratios such as weight/height can be calculated and compared meaningfully."
   ]
  },
  {
   "cell_type": "code",
   "execution_count": null,
   "id": "f90af502-9370-4c3c-88eb-65eb001d0c2b",
   "metadata": {},
   "outputs": [],
   "source": []
  },
  {
   "cell_type": "code",
   "execution_count": null,
   "id": "cf1f7d91-f331-4531-9d44-55cdb7037d0a",
   "metadata": {},
   "outputs": [],
   "source": []
  },
  {
   "cell_type": "markdown",
   "id": "286ddd52-2ca2-4295-a73e-a2d199e47f99",
   "metadata": {},
   "source": [
    "#Question - 4\n",
    "#ans - "
   ]
  },
  {
   "cell_type": "markdown",
   "id": "888309d8-a06b-4f80-8a77-52cbc8bdec5e",
   "metadata": {},
   "source": [
    "(i) Grading in exam: A+, A, B+, B, C+, C, D, E :: Qualitative(Ordinal)\n",
    "\n",
    "(ii) Colour of mangoes: yellow, green, orange, red :: Qualitative(Nominal)\n",
    "\n",
    "(iii) Height data of a class: [178.9, 179, 179.5, 176, 177.2, 178.3, 175.8,...] :: Quantative(Continous)\n",
    "\n",
    "(iv) Number of mangoes exported by a farm: [500, 600, 478, 672, ...] :: Quantaticve(Discrete)\n",
    "\n"
   ]
  },
  {
   "cell_type": "code",
   "execution_count": null,
   "id": "f08c44ba-a0f7-472c-9e96-a17e83a5c98e",
   "metadata": {},
   "outputs": [],
   "source": []
  },
  {
   "cell_type": "code",
   "execution_count": null,
   "id": "bcd2f0c2-a4d3-49b4-bf0c-7dcf9899069a",
   "metadata": {},
   "outputs": [],
   "source": []
  },
  {
   "cell_type": "code",
   "execution_count": null,
   "id": "dea986f7-a292-4423-b24b-160ed0e12acc",
   "metadata": {},
   "outputs": [],
   "source": []
  },
  {
   "cell_type": "markdown",
   "id": "b98ce159-6729-4681-a775-77ad46e0bf8a",
   "metadata": {},
   "source": [
    "#Question - 5\n",
    "#ans - "
   ]
  },
  {
   "cell_type": "markdown",
   "id": "725a50e5-b5b8-4474-9553-e6775eca698f",
   "metadata": {},
   "source": [
    "Levels of measurement, also known as scales of measurement, refer to the different ways in which variables can be measured and categorized based on their properties and characteristics. There are four main levels of measurement: nominal, ordinal, interval, and ratio. These levels determine the type of operations that can be performed on the data and the amount of information they convey.\n",
    "\n",
    "1. Nominal Level:\n",
    "At the nominal level, variables are categorized into distinct groups or labels with no inherent order or ranking. The values are used to represent categories or classes.\n",
    "\n",
    "Example: Gender (Male, Female, Non-binary)\n",
    "\n",
    "Explanation: In this case, the values are categories representing different genders. There's no inherent order or numerical meaning associated with these categories.\n",
    "\n",
    "2. Ordinal Level:\n",
    "Ordinal variables have categories with a specific order or ranking, but the intervals between the categories are not uniform or well-defined. They indicate relative differences but not exact differences.\n",
    "\n",
    "Example: Educational Levels (High School, Bachelor's, Master's, PhD)\n",
    "\n",
    "Explanation: While these levels have an order (PhD > Master's > Bachelor's > High School), the differences between them are not consistent. The gap between educational levels may vary.\n",
    "\n",
    "3. Interval Level:\n",
    "Variables at the interval level have ordered categories with consistent intervals between them. They do not have a true zero point, meaning that zero does not indicate the absence of the attribute. Differences between values are meaningful, but ratios are not.\n",
    "\n",
    "Example: Temperature in Celsius or Fahrenheit\n",
    "\n",
    "Explanation: The difference between 20°C and 30°C is the same as the difference between 30°C and 40°C. However, a temperature of 0°C does not indicate the absence of temperature.\n",
    "\n",
    "4. Ratio Level:\n",
    "Ratio variables also have ordered categories with consistent intervals, but they do have a true zero point, indicating the absence of the attribute. Meaningful ratios and calculations involving ratios can be performed.\n",
    "\n",
    "Example: Height, Weight, Income\n",
    "\n",
    "Explanation: A weight of 0 kg indicates the absence of weight, and a weight of 10 kg is twice as heavy as 5 kg. Ratios such as weight/height can be calculated and compared meaningfully."
   ]
  },
  {
   "cell_type": "code",
   "execution_count": null,
   "id": "6e098990-66ec-40cb-b4db-d8175b647701",
   "metadata": {},
   "outputs": [],
   "source": []
  },
  {
   "cell_type": "code",
   "execution_count": null,
   "id": "5d938ffe-75d8-4c42-a489-16debfe15773",
   "metadata": {},
   "outputs": [],
   "source": []
  },
  {
   "cell_type": "code",
   "execution_count": null,
   "id": "85217737-e39b-403b-9af1-f30a0d3872ce",
   "metadata": {},
   "outputs": [],
   "source": []
  },
  {
   "cell_type": "markdown",
   "id": "98326750-d0ef-4c6a-8253-be806c23c104",
   "metadata": {},
   "source": [
    "#Question - 6\n",
    "#ans - "
   ]
  },
  {
   "cell_type": "markdown",
   "id": "87d4a007-01cd-42d7-98f4-f7634280d07c",
   "metadata": {},
   "source": [
    "Understanding the level of measurement of variables is crucial when analyzing data because it determines the types of statistical operations that are appropriate to apply and the level of information that can be extracted from the data. Using statistical techniques that are compatible with the level of measurement ensures accurate and meaningful analyses. Applying inappropriate methods can lead to erroneous conclusions and misinterpretations of the data. Here's an example to illustrate the importance of understanding the level of measurement:\n",
    "\n",
    "Example: Analyzing Survey Responses\n",
    "\n",
    "Suppose  analyzing survey data from a customer satisfaction survey that asks respondents to rate their satisfaction on a scale from 1 to 5, where 1 is \"Very Dissatisfied\" and 5 is \"Very Satisfied.\" You want to understand the relationship between satisfaction levels and customer demographics.\n",
    "\n",
    "1. Nominal Level Mistake:\n",
    "If we treat the satisfaction ratings (1 to 5) as nominal data, you might calculate the mode (most frequent value) to summarize the data. However, this approach would not capture the underlying ordinal relationship between the levels of satisfaction. Treating them as nominal data might lead to incorrect conclusions about the relative satisfaction levels of different groups.\n",
    "\n",
    "2. Ordinal Level Correct Approach:\n",
    "Recognizing that the satisfaction ratings represent an ordered scale (ordinal data), you could calculate the median or other measures of central tendency and dispersion suitable for ordinal data. This approach respects the ranking of satisfaction levels and gives a more accurate representation of the data's central tendency and spread.\n",
    "\n",
    "3. Interval/Ratio Level Mistake:\n",
    "Suppose you decide to calculate the mean of the satisfaction ratings, treating them as interval or ratio data. However, the satisfaction scale lacks a true zero point, and the differences between the levels might not be equal or meaningful. Treating the data as interval/ratio might lead to incorrect conclusions about the average satisfaction and the interpretation of the results.\n",
    "\n",
    "By correctly identifying the level of measurement as ordinal, you can use appropriate statistical methods that respect the ordering of the responses. This will ensure that the analysis accurately reflects the data's characteristics and provides valid insights into customer satisfaction levels."
   ]
  },
  {
   "cell_type": "code",
   "execution_count": null,
   "id": "4ac2a070-5975-4c99-8af4-7b363d0ad79b",
   "metadata": {},
   "outputs": [],
   "source": []
  },
  {
   "cell_type": "code",
   "execution_count": null,
   "id": "5b5b82c2-8adb-4871-9036-5e028adb7ddb",
   "metadata": {},
   "outputs": [],
   "source": []
  },
  {
   "cell_type": "markdown",
   "id": "64e7d127-e811-4f9e-af21-9efaded233c6",
   "metadata": {},
   "source": [
    "#Question - 7 \n",
    "#ans - "
   ]
  },
  {
   "cell_type": "markdown",
   "id": "d468a4db-ee9e-4d6e-a324-a2adf1cf2c24",
   "metadata": {},
   "source": [
    "1. Nominal Data:\n",
    "Categories: Nominal data consists of categories or labels that represent distinct groups or classes. These categories do not have any inherent order or ranking among them.\n",
    "No Meaningful Order: The categories in nominal data do not have a meaningful order or sequence. They are simply labels that differentiate one category from another.\n",
    "Examples: Gender (Male, Female, Non-binary), Eye color (Blue, Brown, Green), Countries (USA, Canada, Japan).\n",
    "\n",
    "\n",
    "2. Ordinal Data:\n",
    "Categories with Order: Ordinal data also involves categories or labels, but these categories have a specific order or ranking. They represent different levels of a variable with varying degrees of an attribute.\n",
    "Meaningful Order: The order among the categories in ordinal data is important and represents a meaningful ranking. However, the exact differences between the categories may not be well-defined or consistent.\n",
    "Examples: Education Level (High School, Bachelor's, Master's, PhD), Socioeconomic Status (Low, Middle, High), Survey Ratings (Poor, Fair, Good, Excellent).\n"
   ]
  },
  {
   "cell_type": "code",
   "execution_count": null,
   "id": "09d31b56-f699-49a2-9f39-bcf215385c68",
   "metadata": {},
   "outputs": [],
   "source": []
  },
  {
   "cell_type": "code",
   "execution_count": null,
   "id": "b8639e95-1d5f-40c4-9b73-675de2460310",
   "metadata": {},
   "outputs": [],
   "source": []
  },
  {
   "cell_type": "markdown",
   "id": "cc040814-b33f-4465-97cc-08e4c522fd78",
   "metadata": {},
   "source": [
    "#Question - 8 \n",
    "#ans - "
   ]
  },
  {
   "cell_type": "markdown",
   "id": "7fd4f89a-2644-4447-acc8-21da52ca5b35",
   "metadata": {},
   "source": [
    " box plot, also known as a box-and-whisker plot, is often used to display data in terms of range. A box plot provides a visual summary of the distribution of a dataset, including its minimum, maximum, median, and quartiles (which define the interquartile range, or IQR). This plot is particularly useful for identifying the spread and central tendency of data, as well as potential outliers.\n",
    "\n",
    "Here's how a box plot is constructed and what it reveals about the data:\n",
    "\n",
    "1.Box: The box in the plot represents the interquartile range (IQR), which is the range between the first quartile (25th percentile) and the third quartile (75th percentile) of the data. The height of the box indicates the spread of the middle 50% of the data.\n",
    "\n",
    "2.Whiskers: The whiskers extend from the box to the minimum and maximum values within a certain range. Usually, they cover a specified range (often 1.5 times the IQR) before any data points outside that range are considered potential outliers.\n",
    "\n",
    "3.Median Line: A vertical line inside the box represents the median, which is the middle value of the dataset when it's arranged in order.\n",
    "\n",
    "4.Outliers: Data points that fall outside the whiskers are considered potential outliers and are often plotted individually.\n",
    "\n",
    "Box plots allow for quick comparisons between multiple datasets and provide insights into the range, spread, and distribution of the data without requiring a detailed examination of each data point.\n",
    "\n",
    "\n",
    "\n",
    "\n",
    "\n",
    "\n"
   ]
  },
  {
   "cell_type": "code",
   "execution_count": null,
   "id": "dd3db705-5ac3-4232-92ad-3faae98a7497",
   "metadata": {},
   "outputs": [],
   "source": []
  },
  {
   "cell_type": "code",
   "execution_count": null,
   "id": "0c52c729-b52e-410e-9c46-b7ce7bcf0454",
   "metadata": {},
   "outputs": [],
   "source": []
  },
  {
   "cell_type": "markdown",
   "id": "eea02440-40d8-457e-9723-4138d2425d09",
   "metadata": {},
   "source": [
    "#Question - 9\n",
    "#ans - "
   ]
  },
  {
   "cell_type": "markdown",
   "id": "c7d27413-be9c-4875-8d89-2e7f4ecc6169",
   "metadata": {},
   "source": [
    "1. Descriptive Statistics:\n",
    "Descriptive statistics involve methods and techniques used to summarize, organize, and describe the main features of a dataset. They provide a concise overview of the data's characteristics, allowing for a better understanding of the dataset without making inferences beyond the observed data.\n",
    "\n",
    "*.Example of Descriptive Statistics:\n",
    "Consider a dataset representing the ages of individuals in a group of friends: [25, 30, 22, 28, 32, 27, 24]. Descriptive statistics for this dataset might include calculating the mean (average) age, median (middle value), and standard deviation (measure of data spread).\n",
    "\n",
    "\n",
    "2. Inferential Statistics:\n",
    "Inferential statistics involve methods used to draw conclusions or make predictions about a larger population based on a sample of data. These techniques use probability theory to make educated guesses about the characteristics of a population, accounting for uncertainty.\n",
    "\n",
    "*.Example of Inferential Statistics:\n",
    "Suppose you want to know if a new teaching method improves test scores. You randomly select a group of students, apply the new method, and compare their scores to a control group. You then use inferential statistics (such as hypothesis testing) to determine whether the observed differences are likely due to the new method or could have occurred by chance.\n",
    "\n"
   ]
  },
  {
   "cell_type": "code",
   "execution_count": null,
   "id": "595e58c2-a39c-4680-8b5a-3fbc030c15f4",
   "metadata": {},
   "outputs": [],
   "source": []
  },
  {
   "cell_type": "code",
   "execution_count": null,
   "id": "70d3d0de-2bc5-4641-b6d6-f60a0bb0957c",
   "metadata": {},
   "outputs": [],
   "source": []
  },
  {
   "cell_type": "code",
   "execution_count": null,
   "id": "707c24c6-258e-48b6-9d35-0260ca0fb344",
   "metadata": {},
   "outputs": [],
   "source": []
  },
  {
   "cell_type": "markdown",
   "id": "48678396-a9d5-4d17-bef8-0a6b9f612f29",
   "metadata": {},
   "source": [
    "#Question - 10\n",
    "#ans - "
   ]
  },
  {
   "cell_type": "markdown",
   "id": "1745952a-74d2-4f49-a1bd-f5f238f6bb0b",
   "metadata": {},
   "source": [
    "-.Measures of central tendency provide a single representative value that summarizes the \"center\" or \"typical\" value of a dataset. They help you understand where the data tends to cluster. The main measures of central tendency are:\n",
    "\n",
    "1.Mean (Average): The mean is calculated by adding up all the values in the dataset and then dividing by the total number of values. It's influenced by every data point and can be sensitive to outliers.\n",
    "\n",
    "2.Median: The median is the middle value of a dataset when it's arranged in ascending or descending order. It's not affected by extreme values and provides a more robust measure of central tendency.\n",
    "\n",
    "3.Mode: The mode is the value that appears most frequently in the dataset. A dataset can have one mode (unimodal), two modes (bimodal), or more (multimodal). It's especially useful for nominal data.\n",
    "\n",
    "-.Measures of Variability:\n",
    "\n",
    "Measures of variability (also known as measures of dispersion) describe the spread or extent to which data points deviate from the central tendency. They provide insights into how much the values in a dataset vary from one another. The main measures of variability are:\n",
    "\n",
    "1.Range: The range is the difference between the maximum and minimum values in a dataset. It's a simple measure but can be affected by outliers.\n",
    "\n",
    "2.Variance: Variance measures how much each data point deviates from the mean. It's calculated by averaging the squared differences between each data point and the mean.\n",
    "\n",
    "3.Standard Deviation: The standard deviation is the square root of the variance. It gives an idea of how spread out the data is around the mean. A higher standard deviation indicates more variability.\n",
    "\n",
    "4.Interquartile Range (IQR): The IQR is the range between the first quartile (25th percentile) and the third quartile (75th percentile) of the data. It provides a measure of spread that's less affected by extreme values."
   ]
  },
  {
   "cell_type": "code",
   "execution_count": null,
   "id": "5cfdc45c-ffd9-410a-8fbb-2f3c58e24a9a",
   "metadata": {},
   "outputs": [],
   "source": []
  },
  {
   "cell_type": "code",
   "execution_count": null,
   "id": "b7930fc3-d743-4cf0-9b14-5c64c0f23537",
   "metadata": {},
   "outputs": [],
   "source": []
  }
 ],
 "metadata": {
  "kernelspec": {
   "display_name": "Python 3 (ipykernel)",
   "language": "python",
   "name": "python3"
  },
  "language_info": {
   "codemirror_mode": {
    "name": "ipython",
    "version": 3
   },
   "file_extension": ".py",
   "mimetype": "text/x-python",
   "name": "python",
   "nbconvert_exporter": "python",
   "pygments_lexer": "ipython3",
   "version": "3.10.8"
  }
 },
 "nbformat": 4,
 "nbformat_minor": 5
}
